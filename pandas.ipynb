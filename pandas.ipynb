{
 "cells": [
  {
   "cell_type": "code",
   "execution_count": null,
   "metadata": {},
   "outputs": [],
   "source": [
    "#Pandas Introduction \n",
    "'''\n",
    "Pandas is python library used to analyze data.\n",
    "Pandas has 3 data structures: \n",
    "1. Series\n",
    "    * 1D array\n",
    "    * homogeneous\n",
    "    * size of the array is imutable but the values are mutable\n",
    "2. data frame\n",
    "    * 2D array\n",
    "    * heterogeneous\n",
    "    * Both size and values are mutable mutable\n",
    "3. funnel\n",
    "    * 3D array\n",
    "    * heterogeneous\n",
    "    * * Both size and values are mutable mutable\n",
    "'''\n",
    "\n",
    "#Examples: Series\n",
    "import pandas as pd\n",
    "import numpy as np\n",
    "seris = pd.Series([1, 2, 3, 6])\n",
    "print(f'The series is:\\n{seris}\\n')\n",
    "\n",
    "#Example 2: Convert Array into series\n",
    "arr = np.array([1, 2, 3, 4])\n",
    "print(f'The 1D array is:\\n{arr}\\n')\n",
    "seris = pd.Series(arr)\n",
    "print(f'The series is: \\n{seris}')\n"
   ]
  },
  {
   "cell_type": "code",
   "execution_count": null,
   "metadata": {},
   "outputs": [],
   "source": []
  },
  {
   "cell_type": "code",
   "execution_count": null,
   "metadata": {},
   "outputs": [],
   "source": []
  },
  {
   "cell_type": "code",
   "execution_count": null,
   "metadata": {},
   "outputs": [],
   "source": [
    "#Example - Read data from excel\n",
    "import pandas as pd\n",
    "customers = pd.read_csv('Customers.csv')\n",
    "print(f'The size(rows & cols) of the dataframe is: {customers.shape}\\n') #check no. of rows and columns in the dataset\n",
    "pd.set_option('display.max_columns', None)  #max columns to disp\n",
    "print(customers.head(50)) #read te first 10 rows"
   ]
  },
  {
   "cell_type": "code",
   "execution_count": null,
   "metadata": {},
   "outputs": [],
   "source": [
    "#Example - Read data from excel and check its properties\n",
    "import pandas as pd\n",
    "customers = pd.read_csv('Customers.csv')\n",
    "print(f'The size(rows & cols) of the dataframe is: {customers.shape}\\n') #check no. of rows and columns in the dataset\n",
    "print(f'The sampled two random rows are:\\n {customers.sample(2)}\\n') #random sample any 2 rows\n",
    "pd.set_option('display.max_columns', 4)  #max columns to disp\n",
    "print(customers.head(10)) #read te first 10 rows"
   ]
  },
  {
   "cell_type": "code",
   "execution_count": null,
   "metadata": {},
   "outputs": [],
   "source": [
    "# Example: Read and filter data from excel using columns\n",
    "import pandas as pd\n",
    "customers = pd.read_csv('Customers.csv')\n",
    "# pd.set_option('display.max_columns', 5) #define no of colmns to display\n",
    "pd.set_option('display.max_columns', None) #disp all columns\n",
    "print(customers.filter(['CustomerID','Gender','Age','Annual Income($)']).head(15))\n"
   ]
  },
  {
   "cell_type": "code",
   "execution_count": null,
   "metadata": {},
   "outputs": [],
   "source": [
    "# Sort data \n",
    "import pandas as pd\n",
    "customers = pd.read_csv('Customers.csv')\n",
    "pd.set_option('display.max_columns', None) #disp all columns\n",
    "# customer1 = customers.sort_values(by = ['Spending Score (1-100)']) #default sort in ascending\n",
    "customer1 = customers.sort_values(by = ['Spending Score (1-100)'], ascending = False) #sort in descending order\n",
    "print(customer1.filter(['CustomerID','Gender','Age','Annual Income($)', 'Spending Score (1-100)']).head(15))\n"
   ]
  },
  {
   "cell_type": "code",
   "execution_count": null,
   "metadata": {},
   "outputs": [],
   "source": [
    "#Sort with multiple columns\n",
    "import pandas as pd\n",
    "customers = pd.read_csv('Customers.csv')\n",
    "pd.set_option('display.max_columns', None)\n",
    "customers_sort = customers.sort_values(by = ['Age','Profession'], ascending = [False, True])\n",
    "# customers_sort = customers.sort_values(by = ['Spending Score (1-100)','Profession'], ascending = [True, True])#if both columns are sorted in ascending order, the first column takes precedence\n",
    "print(customers_sort.filter(['CustomerID','Gender','Age','Annual Income($)', 'Spending Score (1-100)', 'Profession']).head(20))"
   ]
  },
  {
   "cell_type": "code",
   "execution_count": null,
   "metadata": {},
   "outputs": [],
   "source": [
    "#Sort with multiple columns all in ascending order\n",
    "import pandas as pd\n",
    "customers = pd.read_csv('Customers.csv')\n",
    "pd.set_option('display.max_columns', None)\n",
    "customers_sort = customers.sort_values(by = ['Spending Score (1-100)','Profession'], ascending = [True, True])#if both columns are sorted in ascending order, the first column takes precedence\n",
    "print(customers_sort.filter(['CustomerID','Gender','Age','Annual Income($)', 'Spending Score (1-100)', 'Profession']).head(30))"
   ]
  },
  {
   "cell_type": "code",
   "execution_count": null,
   "metadata": {},
   "outputs": [],
   "source": [
    "# Filtering using loc[].\n",
    "'''\n",
    "* We can filter using single label or list of labels\n",
    "* Filtered data type can be single values, Series of df\n",
    "* When a only a label or list of labels is set, it will return all columns\n",
    "'''\n",
    "# Example Filtering using Boolean\n",
    "import pandas as pd\n",
    "customers = pd.read_csv('Customers.csv', index_col='CustomerID') #use customer ID as the index column\n",
    "pd.set_option('display.max_columns', None)\n",
    "boolean_list = customers['Gender']== 'Female'\n",
    "print(f'The type of the boolean list is:\\n {type(boolean_list)}') #return type of the \n",
    "print(f'The size of the df is:\\n {boolean_list.shape}') \n",
    "# print(customers.sum()) #return sum of all rows for the given columns\n",
    "print(f'The sum of rows whose gender == Female are :\\n {boolean_list.sum()}') #return the number of rows in the df for which gender = female\n",
    "#Display first 20 rows with Gender == Female, filtered by the given columns\n",
    "customers_females = customers.loc[customers['Gender']=='Female']\n",
    "print(customers_females.filter(['CustomerID', 'Gender', 'Age', 'Annual Income ($)', 'Spending Score (1-100)', 'Profession']).head(20))\n"
   ]
  },
  {
   "cell_type": "code",
   "execution_count": null,
   "metadata": {},
   "outputs": [],
   "source": [
    "\n",
    "# Example Filtering using complicated Boolean\n",
    "import pandas as pd\n",
    "customers = pd.read_csv('Customers.csv', index_col='CustomerID') #use customer ID as the index column\n",
    "pd.set_option('display.max_columns', None)\n",
    "customers_females_youths = customers.loc[(customers['Gender']=='Female') & (customers['Age']<=30)  & (customers['Annual Income ($)']>=20000) & (customers['Family Size'] >1) ]\n",
    "print(customers_females_youths.filter(['CustomerID', 'Gender', 'Age', 'Annual Income($)', 'Spending Score (1-100)', 'Profession', 'Family Size']).head(20))\n"
   ]
  },
  {
   "cell_type": "code",
   "execution_count": null,
   "metadata": {},
   "outputs": [],
   "source": [
    "#Label Filtering using (particular label(index) & cols)\n",
    "import pandas as pd\n",
    "customers = pd.read_csv('Customers.csv', index_col='CustomerID') #use customer ID as the index column\n",
    "pd.set_option('display.max_columns', None)\n",
    "print(customers.loc[3, 'Profession']) #filter profession for customer whose customer ID ==3"
   ]
  },
  {
   "cell_type": "code",
   "execution_count": null,
   "metadata": {},
   "outputs": [],
   "source": [
    "#Label Filtering using multiple indeces and columns\n",
    "import pandas as pd\n",
    "customers = pd.read_csv('Customers.csv', index_col='CustomerID')\n",
    "pd.set_option('display.max_columns', None)\n",
    "print(customers.loc[[3, 6, 20, 25, 30, 40], ['Gender', 'Age', 'Spending Score (1-100)', 'Annual Income ($)', 'Profession' ]])\n"
   ]
  },
  {
   "cell_type": "code",
   "execution_count": null,
   "metadata": {},
   "outputs": [],
   "source": [
    "#Label Filtering using multiple indices(list of labels) and all max columns\n",
    "import pandas as pd\n",
    "customers = pd.read_csv('Customers.csv', index_col='CustomerID')\n",
    "pd.set_option('display.max_columns', 6)\n",
    "print(customers.loc[[3, 6, 20, 25, 30, 40]])\n"
   ]
  },
  {
   "cell_type": "code",
   "execution_count": null,
   "metadata": {},
   "outputs": [],
   "source": [
    "#Filtering using ranges of rows & column \n",
    "'''\n",
    "we can set one or two ranges, with the former showing all columns\n",
    " and the latter showing the columns in the range.\n",
    "'''\n",
    "#Exampe filter with row ranges\n",
    "import pandas as pd\n",
    "# customers = pd.read_csv('Customers.csv', index_col='Age')\n",
    "# print(customers)\n",
    "customers = pd.read_csv('Customers.csv', index_col='CustomerID')\n",
    "print(customers.loc[20:70, 'Age': 'Profession']) #row range = 20-70, col range=Age:Profession\n",
    "\n"
   ]
  },
  {
   "cell_type": "code",
   "execution_count": null,
   "metadata": {},
   "outputs": [],
   "source": [
    "# Filter using lambdas /custom functions\n",
    "'''\n",
    "In the lambda function, we specify the parameter called row, which refers to the Series in \n",
    "the DataFrame, such that we can then evaluate it to generate the boolean list\n",
    "'''\n",
    "import pandas as pd\n",
    "customers = pd.read_csv('Customers.csv', index_col='Age')\n",
    "pd.set_option('display.max_columns', 5)\n",
    "print(customers.loc[lambda row : row['Gender'].str.startswith('F')])\n"
   ]
  },
  {
   "cell_type": "code",
   "execution_count": null,
   "metadata": {},
   "outputs": [],
   "source": [
    "# Filter using lambdas /custom functions\n",
    "\n",
    "import pandas as pd\n",
    "customers = pd.read_csv('Customers.csv', index_col='Age')\n",
    "pd.set_option('display.max_columns', 5)\n",
    "print(customers.loc[lambda row : row['Annual Income ($)']>30000])\n"
   ]
  },
  {
   "cell_type": "code",
   "execution_count": null,
   "metadata": {},
   "outputs": [],
   "source": []
  },
  {
   "cell_type": "code",
   "execution_count": 14,
   "metadata": {},
   "outputs": [
    {
     "name": "stdout",
     "output_type": "stream",
     "text": [
      "            Gender  Age  ...  Work Experience  Family Size\n",
      "CustomerID               ...                              \n",
      "3           Female   20  ...                1            1\n",
      "4           Female   23  ...                0            2\n",
      "5           Female   31  ...                2            6\n",
      "6           Female   22  ...                0            2\n",
      "7           Female   35  ...                1            3\n",
      "8           Female   23  ...                1            3\n",
      "9             Male   64  ...                0            3\n",
      "10          Female   30  ...                1            4\n",
      "11            Male   67  ...                1            3\n",
      "12          Female   35  ...                4            4\n",
      "13          Female   58  ...                0            5\n",
      "14          Female   24  ...                1            1\n",
      "15            Male   37  ...                0            1\n",
      "16            Male   22  ...                1            2\n",
      "17          Female   35  ...                9            5\n",
      "18            Male   20  ...                1            6\n",
      "19            Male   52  ...                1            4\n",
      "20          Female   35  ...                0            1\n",
      "21            Male   35  ...               12            1\n",
      "22            Male   25  ...                3            4\n",
      "23          Female   46  ...               13            2\n",
      "24            Male   31  ...                5            2\n",
      "25          Female   54  ...                1            3\n",
      "26            Male   29  ...                1            3\n",
      "27          Female   45  ...                9            8\n",
      "28            Male   35  ...                1            3\n",
      "29          Female   40  ...                0            1\n",
      "30          Female   23  ...                5            4\n",
      "31            Male   60  ...                0            3\n",
      "32          Female   21  ...                1            2\n",
      "33            Male   53  ...                1            3\n",
      "34            Male   18  ...                9            7\n",
      "35          Female   49  ...                1            2\n",
      "36          Female   21  ...                3            4\n",
      "37          Female   42  ...                5            1\n",
      "38          Female   30  ...                1            5\n",
      "39          Female   36  ...                8            2\n",
      "40          Female   20  ...                8            2\n",
      "41          Female   65  ...                4            1\n",
      "42            Male   24  ...                0            2\n",
      "43            Male   48  ...               14            3\n",
      "44          Female   31  ...                1            2\n",
      "45          Female   49  ...                8            1\n",
      "46          Female   24  ...                4            2\n",
      "47          Female   50  ...                0            4\n",
      "48          Female   27  ...               12            1\n",
      "49          Female   29  ...                0            4\n",
      "50          Female   31  ...                1            1\n",
      "\n",
      "[48 rows x 7 columns]\n"
     ]
    }
   ],
   "source": [
    "#Exampe filter with row & column ranges\n",
    "import pandas as pd\n",
    "customers = pd.read_csv('Customers.csv', index_col='CustomerID')\n",
    "pd.set_option('display.max_columns', 5)\n",
    "print(customers.loc[3:50])"
   ]
  },
  {
   "cell_type": "code",
   "execution_count": null,
   "metadata": {},
   "outputs": [],
   "source": [
    "# Group by\n",
    "import pandas as pd\n",
    "customers = pd.read_csv('Customers.csv', index_col='CustomerID')\n",
    "# print(customers.groupby('Profession')['Annual Income ($)'].sum()) #group sum of annual income per profession\n",
    "# print(customers.groupby('Gender')['Age'].mean()) #mea age grouped by gender\n",
    "print(customers.groupby('Profession')['Spending Score (1-100)'].mean())\n"
   ]
  },
  {
   "cell_type": "code",
   "execution_count": null,
   "metadata": {},
   "outputs": [],
   "source": [
    "#sort & Group by\n",
    "import pandas as pd\n",
    "customers = pd.read_csv('Customers.csv', index_col='CustomerID')\n",
    "print(customers.groupby('Profession')['Annual Income ($)'].mean().sort_values(ascending= [False]))\n",
    "\n",
    "# avg_income = customers.groupby('Profession')['Annual Income ($)'].mean()\n",
    "# print(avg_income.sort_values(by=['Profession'], ascending= [False]))"
   ]
  },
  {
   "cell_type": "code",
   "execution_count": 16,
   "metadata": {},
   "outputs": [
    {
     "name": "stdout",
     "output_type": "stream",
     "text": [
      "Profession\n",
      "Homemaker        46.383333\n",
      "Marketing        48.717647\n",
      "Lawyer           48.859155\n",
      "Engineer         48.966480\n",
      "Executive        49.901961\n",
      "Healthcare       50.516224\n",
      "Doctor           51.900621\n",
      "Artist           52.678105\n",
      "Entertainment    52.940171\n",
      "Name: Spending Score (1-100), dtype: float64\n"
     ]
    }
   ],
   "source": [
    "#sort, filter & Group by\n",
    "import pandas as pd\n",
    "customers = pd.read_csv('Customers.csv', index_col='CustomerID')\n",
    "# pd.set_option('display.max_columns', None)\n",
    "print(customers.filter(['Gender', 'Age', 'Annual Income ($)', 'Spending Score (1-100)', 'Profession']).groupby('Profession')['Spending Score (1-100)'].mean().sort_values(ascending= True))\n"
   ]
  },
  {
   "cell_type": "code",
   "execution_count": null,
   "metadata": {},
   "outputs": [],
   "source": [
    "#Pandas dataframe - creating data frames\n",
    "import pandas as pd\n",
    "# data  = [['Jack', 20, 30], ['John', 30, 40], ['Alfred', 40, 50.1], ['Jotham', 50, 60.2]]\n",
    "data  = [['Jack', 20, 30, 'Driver', 2], ['John', 30, 40, 'Engineer', 'Divorced', 10 ], ['Alfred', 40, 50.1, 'Teacher', 'Married', 3], ['Jotham', 50, 60.2, 'Docter', 'Single', 5 ]]\n",
    "pd.set_option('display.max_columns', None)\n",
    "df = pd.DataFrame(data, columns = ['Name', 'Age(yrs)', 'Height(cm)', 'Profession', 'Marital_Status', 'Networth(blns)'])\n",
    "print(df)"
   ]
  },
  {
   "cell_type": "code",
   "execution_count": null,
   "metadata": {},
   "outputs": [],
   "source": [
    "# Exercise\n",
    "'''\n",
    "Create a DataFrame (df) containing data on registered voters in the Kenya, including demographic information and political preference. Using pandas, print the first 5 rows of the DataFrame to get a sense of what the data looks like. Next, answer the following questions:\n",
    "\n",
    "How many observations are in the DataFrame?\n",
    "How many variables are measured (how many columns)?\n",
    "What is the age of the youngest person in the data? The oldest?\n",
    "How many days a week does the average respondent watch TV news (round to the nearest tenth)?\n",
    "Check for missing values. Are there any?\n",
    "\n",
    "'''\n",
    "import pandas as pd\n",
    "voters_data=[['Henry' ,42,'DP','Kisumu',23],['Chris' ,23,'CCU','Kiambu',38],['Okello',34,'DAP','Kitui'],['Matayo', 51, 'Mbus','Meru',20],['Kasyoka',28,'CCM','Kirinyaga',10],['Waithera',24,'FK','Homabay'],['Halima',16, 'PAA','Kwale', 27]]\n",
    "voters_df=pd.DataFrame(voters_data,columns=['name','age','political party','home county', 'weeklyTV hrs'])\n",
    "votersDF_5=pd.DataFrame(voters_data,columns=['name','age','political party','home county', 'weekly TV hrs']).head(5)\n",
    "pd.set_option('display.max_columns',None)\n",
    "#print(voters_df)\n",
    "filter_by_age=voters_df.filter([\"name\",\"age\"])\n",
    "sorting=voters_df.sort_values(by=['age'], ascending=[False])\n",
    "#sorting=voters_df.sort_values(by=['age'], ascending=[True])\n",
    "#print(votersDF_5)\n",
    "#print(filter_by_age)\n",
    "print(f'\\n{sorting}\\n')\n",
    "print('The size of the DF is ', voters_df.shape, '\\n')\n",
    "print(voters_df.sample(2))\n"
   ]
  }
 ],
 "metadata": {
  "kernelspec": {
   "display_name": "Python 3",
   "language": "python",
   "name": "python3"
  },
  "language_info": {
   "codemirror_mode": {
    "name": "ipython",
    "version": 3
   },
   "file_extension": ".py",
   "mimetype": "text/x-python",
   "name": "python",
   "nbconvert_exporter": "python",
   "pygments_lexer": "ipython3",
   "version": "3.10.8"
  },
  "orig_nbformat": 4
 },
 "nbformat": 4,
 "nbformat_minor": 2
}
