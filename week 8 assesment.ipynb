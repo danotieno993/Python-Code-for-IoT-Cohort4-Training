{
 "cells": [
  {
   "cell_type": "code",
   "execution_count": null,
   "metadata": {},
   "outputs": [],
   "source": [
    "i =30\n",
    "j = 40\n",
    "if i > j:\n",
    "    print(f'i is {i} and is greater than j which is {j}')\n",
    "elif i < j:\n",
    "    print(f'i is {i} and is less than than j which is {j}')\n"
   ]
  },
  {
   "cell_type": "code",
   "execution_count": null,
   "metadata": {},
   "outputs": [],
   "source": [
    "i =30\n",
    "j = 30\n",
    "if i > j:\n",
    "    print(f'i is {i} and is greater than j which is {j}')\n",
    "elif i < j:\n",
    "    print(f'i is {i} and is less than than j which is {j}')\n",
    "else:\n",
    "    print(f'i is {i} and is equal to j which is {j}')"
   ]
  },
  {
   "cell_type": "code",
   "execution_count": null,
   "metadata": {},
   "outputs": [],
   "source": [
    "i =30\n",
    "j = 10\n",
    "k = 40\n",
    "if i > j:\n",
    "    print(f'i is {i} and is greater than j which is {j}')\n",
    "    if i < k:\n",
    "        print(f'Yes i = {i} is also less than k= {k}')\n",
    "elif i < j:\n",
    "    print(f'i is {i} and is less than than j which is {j}')\n",
    "else:\n",
    "    print(f'i is {i} and is equal to j which is {j}')"
   ]
  },
  {
   "cell_type": "code",
   "execution_count": null,
   "metadata": {},
   "outputs": [],
   "source": [
    "import random\n",
    "X= random.random()\n",
    "Y= random.randint(0,4)\n",
    "\n",
    "print(int(X),\":\",Y+int(X))"
   ]
  },
  {
   "cell_type": "code",
   "execution_count": null,
   "metadata": {},
   "outputs": [],
   "source": [
    "import mysql.connector\n",
    "my_db_server = mysql.connector.connect(host = '127.0.0.1', user = 'root', password = 'Root@123', port =3306 )\n",
    "print('Connected successfully to mysl server')\n"
   ]
  },
  {
   "cell_type": "code",
   "execution_count": null,
   "metadata": {},
   "outputs": [],
   "source": [
    "my_cursor = my_db_server.cursor() #querry records from db\n",
    "my_db = 'CREATE database EMPLOYEE'\n",
    "my_cursor.execute(my_db) #execute db\n",
    "print('List of Databases is:')\n",
    "my_cursor.execute('SHOW DATABASES')\n",
    "print(my_cursor.fetchall()) "
   ]
  },
  {
   "cell_type": "code",
   "execution_count": null,
   "metadata": {},
   "outputs": [],
   "source": [
    "# Connect to the db\n",
    "import mysql.connector\n",
    "my_db_server = mysql.connector.connect(host=\"localhost\", user=\"root\", password=\"Root@123\", database=\"EMPLOYEE\")\n",
    "mycursor =my_db_server.cursor()\n",
    "print(f'Connection successful for db objects \\n{my_db_server}')\n"
   ]
  },
  {
   "cell_type": "code",
   "execution_count": null,
   "metadata": {},
   "outputs": [],
   "source": [
    "#Create tables\n",
    "mycursor.execute(\"CREATE TABLE STAFF (Staff_ID INT PRIMARY KEY, Name VARCHAR(255), Department VARCHAR(255), Gender VARCHAR (255), Experience INT)\")\n",
    "mycursor.execute(\"CREATE TABLE SALARY (Staff_ID INT , Basic FLOAT, Allowance FLOAT, Commission FLOAT, FOREIGN KEY(Staff_ID) REFERENCES STAFF(Staff_ID))\")\n"
   ]
  },
  {
   "cell_type": "code",
   "execution_count": null,
   "metadata": {},
   "outputs": [],
   "source": [
    "mycursor =my_db_server.cursor()\n",
    "mycursor.execute(\"SHOW TABLES\") #show tables\n",
    "print(mycursor.fetchall())"
   ]
  },
  {
   "cell_type": "code",
   "execution_count": null,
   "metadata": {},
   "outputs": [],
   "source": [
    "cols = \"INSERT INTO STAFF(Staff_ID, Name, Department, Gender, Experience) VALUES(%s, %s, %s, %s, %s)\"\n",
    "vals = [\n",
    "(1, 'Milcent Doe', 'IT', 'Male', 2),\n",
    "(2, 'John Doe', 'IT', 'Male', 5),\n",
    "(3, 'John Jack', 'Network', 'Male', 4),\n",
    "(4, 'John Joe', 'HR', 'Male', 6),\n",
    "(5, 'John Mark', 'Marketting', 'Male', 7),\n",
    "(6, 'Milly Doe', 'IT', 'Female', 5)\n",
    "]\n",
    "mycursor.executemany(cols, vals)"
   ]
  },
  {
   "cell_type": "code",
   "execution_count": 58,
   "metadata": {},
   "outputs": [
    {
     "name": "stdout",
     "output_type": "stream",
     "text": [
      "6 records inserted into  table.\n"
     ]
    }
   ],
   "source": [
    "#Commit to db\n",
    "my_db_server.commit()\n",
    "print(mycursor.rowcount, \"records inserted into  table.\")"
   ]
  },
  {
   "cell_type": "code",
   "execution_count": null,
   "metadata": {},
   "outputs": [],
   "source": [
    "cols = \"INSERT INTO SALARY(Staff_ID, Basic, Allowance, Commission) VALUES(%s, %s, %s, %s)\"\n",
    "vals = [\n",
    "    (1, 1000, 101, 100),\n",
    "    (2, 1000, 102, 100),\n",
    "    (3, 1003, 101, 140),\n",
    "    (4, 1000, 101, 100),\n",
    "    (5, 1000, 101, 106),\n",
    "    (6, 1000, 101, 10),\n",
    "\n",
    "]\n",
    "mycursor.executemany(cols, vals)"
   ]
  },
  {
   "cell_type": "code",
   "execution_count": 59,
   "metadata": {},
   "outputs": [
    {
     "name": "stdout",
     "output_type": "stream",
     "text": [
      "6 records inserted into  table.\n"
     ]
    }
   ],
   "source": [
    "mycursor.executemany(cols, vals)\n",
    "my_db_server.commit()\n",
    "print(mycursor.rowcount, \"records inserted into  table.\")"
   ]
  }
 ],
 "metadata": {
  "kernelspec": {
   "display_name": "Python 3",
   "language": "python",
   "name": "python3"
  },
  "language_info": {
   "codemirror_mode": {
    "name": "ipython",
    "version": 3
   },
   "file_extension": ".py",
   "mimetype": "text/x-python",
   "name": "python",
   "nbconvert_exporter": "python",
   "pygments_lexer": "ipython3",
   "version": "3.10.8"
  },
  "orig_nbformat": 4
 },
 "nbformat": 4,
 "nbformat_minor": 2
}
