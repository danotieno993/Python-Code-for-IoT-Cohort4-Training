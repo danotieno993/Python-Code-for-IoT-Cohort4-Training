{
 "cells": [
  {
   "cell_type": "code",
   "execution_count": null,
   "metadata": {},
   "outputs": [],
   "source": [
    "#install numpy and pandas from vscode terminal\n",
    "pip install numpy\n",
    "pip install pandas"
   ]
  },
  {
   "cell_type": "code",
   "execution_count": null,
   "metadata": {},
   "outputs": [],
   "source": [
    "#From jupyter notebook, execute the commands below\n",
    "#check pandas version\n",
    "import pandas as pd\n",
    "print(pd.__version__)"
   ]
  },
  {
   "cell_type": "code",
   "execution_count": null,
   "metadata": {},
   "outputs": [],
   "source": [
    "#check numpy version\n",
    "import numpy as np\n",
    "print(np.__version__)\n"
   ]
  },
  {
   "cell_type": "code",
   "execution_count": null,
   "metadata": {},
   "outputs": [],
   "source": [
    "#mport pie\n",
    "from numpy import pi\n",
    "print(pi)"
   ]
  },
  {
   "cell_type": "code",
   "execution_count": null,
   "metadata": {},
   "outputs": [],
   "source": [
    "#numpy trigonometry\n",
    "from numpy import cos, cosh, sin,tan, tanh\n",
    "print(cos(90))\n",
    "print(cosh(45))"
   ]
  },
  {
   "cell_type": "code",
   "execution_count": null,
   "metadata": {},
   "outputs": [],
   "source": [
    "#numpy arrays\n",
    "import numpy as np\n",
    "a = np.array([1, 2, 3]) #1 by 1 array\n",
    "p = np.array([[1, 2, 3], [4, 5, 6], [7, 8, 9]]) #3x3 array\n",
    "print(type(a))\n",
    "print(a.shape)\n",
    "print('The shape of array p is', p.shape)"
   ]
  },
  {
   "cell_type": "code",
   "execution_count": null,
   "metadata": {},
   "outputs": [],
   "source": [
    "#Arrays with same elements\n",
    "import numpy as np\n",
    "y = np.zeros((3, 3))\n",
    "print(y)"
   ]
  }
 ],
 "metadata": {
  "language_info": {
   "name": "python"
  },
  "orig_nbformat": 4
 },
 "nbformat": 4,
 "nbformat_minor": 2
}
