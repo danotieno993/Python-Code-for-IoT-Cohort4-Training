{
 "cells": [
  {
   "cell_type": "code",
   "execution_count": 2,
   "metadata": {},
   "outputs": [
    {
     "name": "stdout",
     "output_type": "stream",
     "text": [
      "[10 11 12 13 14 15 16]\n",
      "[11 12 13 14]\n"
     ]
    }
   ],
   "source": [
    "#Array slicing\n",
    "'''\n",
    "* Array slicing allows you to take elements of one array from a given index and store them in another array\n",
    "Array slicing options:\n",
    " *  We pass slice instead of index like this: [start:end].\n",
    " * Define start, end  and step e.g: [start:end:step].\n",
    " * If we don't pass start its considered 0\n",
    " * If we don't pass end its considered length of array in that dimension\n",
    " * If we don't pass step its considered 1\n",
    "\n",
    "'''\n",
    "\n",
    "#Example\n",
    "\n",
    "import numpy as np\n",
    "a = np.array([10, 11, 12, 13, 14, 15, 16])\n",
    "print(a)  #original array\n",
    "print(a[1:5]) #slice the elements from index 1to index 4 (exclude index 5)\n"
   ]
  },
  {
   "cell_type": "code",
   "execution_count": 1,
   "metadata": {},
   "outputs": [
    {
     "name": "stdout",
     "output_type": "stream",
     "text": [
      "[10 11 12 13 14 15 16]\n",
      "[11 12 13 14]\n"
     ]
    }
   ],
   "source": [
    "\n",
    "#Example\n",
    "\n",
    "import numpy as np\n",
    "a = np.array([10, 11, 12, 13, 14, 15, 16])\n",
    "print(a)  #original array\n",
    "print(a[1:5]) #slice the elements from index 1to index 4 (exclude index 5)\n"
   ]
  },
  {
   "cell_type": "code",
   "execution_count": 3,
   "metadata": {},
   "outputs": [
    {
     "name": "stdout",
     "output_type": "stream",
     "text": [
      "[10 11 12 13]\n"
     ]
    }
   ],
   "source": [
    "#slice elements from start to a given index (not included)\n",
    "import numpy as np\n",
    "a = np.array([10, 11, 12, 13, 14, 15, 16])\n",
    "print(a[:4]) #slice from index 0 to index 3 (index 4 not included"
   ]
  },
  {
   "cell_type": "code",
   "execution_count": 4,
   "metadata": {},
   "outputs": [
    {
     "name": "stdout",
     "output_type": "stream",
     "text": [
      "[14 15 16]\n"
     ]
    }
   ],
   "source": [
    "#slice from specified index to end of array\n",
    "import numpy as np\n",
    "a = np.array([10, 11, 12, 13, 14, 15, 16])\n",
    "print(a[4:])  #slice from index 4 to the end"
   ]
  },
  {
   "cell_type": "code",
   "execution_count": 5,
   "metadata": {},
   "outputs": [
    {
     "name": "stdout",
     "output_type": "stream",
     "text": [
      "[14 15]\n"
     ]
    }
   ],
   "source": [
    "#slice from specified start to end indices\n",
    "import numpy as np\n",
    "a = np.array([10, 11, 12, 13, 14, 15, 16])\n",
    "print(a[4:6])  #slice from index 4 to index 5"
   ]
  },
  {
   "cell_type": "code",
   "execution_count": 11,
   "metadata": {},
   "outputs": [
    {
     "name": "stdout",
     "output_type": "stream",
     "text": [
      "Array b = \n",
      "[[12 13 14]\n",
      " [16 17 18]]\n",
      "The new array b = \n",
      "[[12 77 14]\n",
      " [16 17 18]]\n",
      "\n",
      "12\n"
     ]
    }
   ],
   "source": [
    "#change array element \n",
    "import numpy as np\n",
    "a = np.array([[10, 12, 13, 14, 18], [15, 16, 17, 18, 20], [19, 20, 21, 22, 24]])\n",
    "b = a[:2, 1:4] #first ratio slices the rows (index 0 - 1), the second ratio slice the columns(index 1 -3)\n",
    "print(f'Array b = \\n{b}')\n",
    "# Change array element on row 0, col 0\n",
    "b[0, 1] = 77\n",
    "print(f'The new array b = \\n{b}\\n')\n",
    "print(a[0, 1]) #print 77\n"
   ]
  },
  {
   "cell_type": "code",
   "execution_count": 7,
   "metadata": {},
   "outputs": [
    {
     "name": "stdout",
     "output_type": "stream",
     "text": [
      "[14 15]\n"
     ]
    }
   ],
   "source": [
    "#Negaticve slicing\n",
    "import numpy as np\n",
    "a = np.array([10, 11, 12, 13, 14, 15, 16])\n",
    "print(a[-3:-1]) #Slice from the index 3 from the end to index 1 from the end:\n",
    "\n"
   ]
  },
  {
   "cell_type": "code",
   "execution_count": 8,
   "metadata": {},
   "outputs": [
    {
     "name": "stdout",
     "output_type": "stream",
     "text": [
      "[11 13]\n"
     ]
    }
   ],
   "source": [
    "# Step - slicnginterval \n",
    "import numpy as np\n",
    "a = np.array([10, 11, 12, 13, 14, 15, 16])\n",
    "print(a[1:5:2]) #return  elements from index 1 to index 4 with a step of 2\n"
   ]
  },
  {
   "cell_type": "code",
   "execution_count": 9,
   "metadata": {},
   "outputs": [
    {
     "name": "stdout",
     "output_type": "stream",
     "text": [
      "12\n"
     ]
    }
   ],
   "source": [
    "##print the first  index of the first column i.e 12\n",
    "import numpy as np\n",
    "a = np.array([[10, 12, 13, 14], [15, 16, 17, 18], [19, 20, 21, 22]])\n",
    "# [[10 12 13 14]\n",
    "#  [15 16 17 18]\n",
    "#  [19 20 21 22]]\n",
    "print(a[0, 1])\n"
   ]
  },
  {
   "cell_type": "code",
   "execution_count": 10,
   "metadata": {},
   "outputs": [
    {
     "name": "stdout",
     "output_type": "stream",
     "text": [
      "[[10 12 13 14]\n",
      " [15 16 17 18]\n",
      " [19 20 21 22]]\n",
      "[[12 13]\n",
      " [16 17]]\n"
     ]
    }
   ],
   "source": [
    "import numpy as np\n",
    "a = np.array([[10, 12, 13, 14], [15, 16, 17, 18], [19, 20, 21, 22]])\n",
    "print(a)\n",
    "\n",
    "# [[10 12 13 14]\n",
    "#  [15 16 17 18]\n",
    "#  [19 20 21 22]]\n",
    "#slice sub-array from column 1 and 2 (2D array) and return index 1 to 2 i.e 3 not included\n",
    "b = a[0:2, 1:3]\n",
    "print(b)\n",
    "# [[12 13]\n",
    "#  [16 17]]"
   ]
  },
  {
   "cell_type": "code",
   "execution_count": 11,
   "metadata": {},
   "outputs": [
    {
     "name": "stdout",
     "output_type": "stream",
     "text": [
      "[[11 12 13 14 17 21 22]\n",
      " [14 15 16 17 16 30 34]\n",
      " [19 20 21 22 23 15 26]\n",
      " [40 34 33 31 30 25 20]]\n",
      "\n",
      "\n",
      "[13 14]\n",
      "\n",
      "\n",
      "[20 21 22 23 15]\n"
     ]
    }
   ],
   "source": [
    "#access array rows and slice it \n",
    "import numpy as np\n",
    "b = np.array([[11, 12, 13, 14, 17, 21, 22], [14, 15, 16, 17, 16, 30, 34], [19, 20, 21, 22, 23, 15, 26], [40, 34, 33, 31, 30, 25, 20]])\n",
    "print(b)\n",
    "print('\\n')\n",
    "print(b[0, 2:4]) #access row 1 and slice index/colmn 2 to 3 (4 excluded)\n",
    "print('\\n')\n",
    "print(b[2, 1:6]) #access row 2 and slice index 1 to 5 (6 excluded)"
   ]
  },
  {
   "cell_type": "code",
   "execution_count": null,
   "metadata": {},
   "outputs": [],
   "source": [
    "#access middle row arrays\n",
    "import numpy as np\n",
    "a = np.array([[10, 12, 13, 14], [15, 16, 17, 18], [19, 20, 21, 22]])\n",
    "row_r1 = a[1, :]    # Rank 1 view of the second row of a\n",
    "row_r2 = a[1:2, :]  # Rank 2 view of the second row of a\n",
    "print(row_r1, row_r1.shape)  # Prints \"[5 6 7 8] (4,)\"\n",
    "print(row_r2, row_r2.shape)  # Prints \"[[5 6 7 8]] (1, 4)\""
   ]
  },
  {
   "cell_type": "code",
   "execution_count": null,
   "metadata": {},
   "outputs": [],
   "source": [
    "#access middle row arrays\n",
    "import numpy as np\n",
    "a = np.array([[10, 12, 13, 14], [15, 16, 17, 18], [19, 20, 21, 22]])\n",
    "print(a)\n",
    "print('\\n')\n",
    "row_r1 = a[1, : ]    # Rank 1 view of the second row of a\n",
    "row_r2 = a[1:2, :]  # Rank 2 view of the second row of a\n",
    "print(row_r1, row_r1.shape)  # Prints [15 16 17 18] (4,)\n",
    "print(row_r2, row_r2.shape)  # Prints [15 16 17 18] (4,)"
   ]
  },
  {
   "cell_type": "code",
   "execution_count": null,
   "metadata": {},
   "outputs": [],
   "source": [
    "# Accessing elements of row row 3 and slice throu index 1 to 5(5 not included)\n",
    "import numpy as np\n",
    "b = np.array([[11, 12, 13, 14, 17, 21, 22], [14, 15, 16, 17, 16, 30, 34], [19, 20, 21, 22, 23, 15, 26], [40, 34, 33, 31, 30, 25, 20]])\n",
    "print(b[2, 1:5])"
   ]
  },
  {
   "cell_type": "code",
   "execution_count": null,
   "metadata": {},
   "outputs": [],
   "source": [
    "# Accessing elements from row 1(row index 0) to last (row 4) and slice elements through index 1 to 5(5 not included)\n",
    "import numpy as np\n",
    "b = np.array([[11, 12, 13, 14, 17, 21, 22], [14, 15, 16, 17, 16, 30, 34], [19, 20, 21, 22, 23, 15, 26], [40, 34, 33, 31, 30, 25, 20]])\n",
    "print(b[0: , 1:5]) #1st ratio before the comma indicates the row indices, second ration indicates the the slicing ratio for the array elements"
   ]
  },
  {
   "cell_type": "code",
   "execution_count": null,
   "metadata": {},
   "outputs": [],
   "source": [
    "# Accessing elements from row 1(row index 0) to row index 2(row 3) and slice elements through index 1 to 5(5 not included)\n",
    "import numpy as np\n",
    "b = np.array([[11, 12, 13, 14, 17, 21, 22], [14, 15, 16, 17, 16, 30, 34], [19, 20, 21, 22, 23, 15, 26], [40, 34, 33, 31, 30, 25, 20]])\n",
    "print(b[0:2 , 1:5]) #1st ratio before the comma indicates the row indices, second ration indicates the the slicing ratio for the array elements"
   ]
  },
  {
   "cell_type": "code",
   "execution_count": null,
   "metadata": {},
   "outputs": [],
   "source": [
    "#lookup for matching inces\n",
    "import numpy as np\n",
    "a = np.array([12, 13, 15, 16, 17, 18, 20])\n",
    "b = np.array([12, 15, 15, 16, 19, 18, 21])\n",
    "print(np.where(a == b))"
   ]
  },
  {
   "cell_type": "code",
   "execution_count": null,
   "metadata": {},
   "outputs": [],
   "source": [
    "#array stacking - arrays must have same dimensions\n",
    "import numpy as np\n",
    "a = np.array([[12, 13, 15], [16, 17, 18]])\n",
    "b = np.array([[12, 15, 15], [16, 19, 18]])\n",
    "\n",
    "h_stack = (np.hstack((a, b))) #Horizontal stacking \n",
    "v_stack = (np.vstack((a, b))) #vertical stacking\n",
    "print('Array after Horizontal stacking is: \\n', h_stack)\n",
    "print('Array after vertical stacking is: \\n', v_stack)\n"
   ]
  },
  {
   "cell_type": "code",
   "execution_count": null,
   "metadata": {},
   "outputs": [],
   "source": [
    "#array stacking - arrays must have same dimensions\n",
    "import numpy as np\n",
    "a = np.array([[2, 3, 1],\n",
    "              [4, 2, 6],\n",
    "              [5, 6, 0]])\n",
    "              \n",
    "b = np.array([[5, 8, 1],\n",
    "              [4, 5, 3],\n",
    "              [0, 3, 5]])\n",
    "              \n",
    "\n",
    "              \n",
    "h_stack = np.hstack((a, b)) #Horizontal stacking \n",
    "v_stack = np.vstack((a, b)) #vertical stacking\n",
    "print('Array after Horizontal stacking is: \\n', h_stack)\n",
    "print('Array after vertical stacking is: \\n', v_stack)\n",
    "\n",
    "#array multiplication = sum of rows*columns\n",
    "# product=    ([[22, 34 , 16]\n",
    "#              [28, 60,  40]\n",
    "#              [49, 70, 23 ]])\n",
    "arr_prod = np.matmul(a, b) \n",
    "print('The product of array a & b is: \\n', arr_prod)\n",
    "arr_prod1 = a@b\n",
    "print(\"Another array product of a & b is: \\n\", arr_prod1)\n",
    "\n",
    "#array transpose\n",
    "'''\n",
    "arr_prod_transpose = ([[22, 28, 49],\n",
    "                     [34, 60, 70],\n",
    "                     [16, 40, 23]])\n",
    "'''\n",
    "arr_prod_transpose = np.transpose(arr_prod)\n",
    "print('The transposed array product is: \\n', arr_prod_transpose)\n",
    "arr_prod_transpose1 = arr_prod.T\n",
    "print('Another transposed array product is: \\n', arr_prod_transpose1)"
   ]
  }
 ],
 "metadata": {
  "kernelspec": {
   "display_name": "Python 3",
   "language": "python",
   "name": "python3"
  },
  "language_info": {
   "codemirror_mode": {
    "name": "ipython",
    "version": 3
   },
   "file_extension": ".py",
   "mimetype": "text/x-python",
   "name": "python",
   "nbconvert_exporter": "python",
   "pygments_lexer": "ipython3",
   "version": "3.10.10"
  },
  "orig_nbformat": 4
 },
 "nbformat": 4,
 "nbformat_minor": 2
}
