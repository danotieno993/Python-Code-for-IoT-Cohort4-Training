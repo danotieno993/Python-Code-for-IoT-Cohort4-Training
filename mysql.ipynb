{
 "cells": [
  {
   "cell_type": "code",
   "execution_count": null,
   "metadata": {},
   "outputs": [],
   "source": [
    "#nInstall mysql-connector-python package\n",
    "pip install mysql-connector-python --trusted-host pypi.org --trusted-host files.pythonhosted.org"
   ]
  },
  {
   "cell_type": "code",
   "execution_count": null,
   "metadata": {},
   "outputs": [],
   "source": [
    "#create connection to db server\n",
    "import mysql.connector\n",
    "db1 = mysql.connector.connect(host = '127.0.0.1', user = 'root', password = 'Root@123', port =3306 )\n",
    "print(db1)\n",
    "print(f'The date is: {mysql.connector.Date(year=2023, month=3, day=10)}')"
   ]
  },
  {
   "cell_type": "code",
   "execution_count": null,
   "metadata": {},
   "outputs": [],
   "source": [
    "#Example: create a new DB\n",
    "\n",
    "#Create a mysql db server connection\n",
    "import mysql.connector\n",
    "my_connection = mysql.connector.connect(host = '127.0.0.1', user = 'root', password = 'Root@123', port = 3306)\n",
    "print(my_connection)"
   ]
  },
  {
   "cell_type": "code",
   "execution_count": null,
   "metadata": {},
   "outputs": [],
   "source": [
    "#create Db\n",
    "my_cursor = my_connection.cursor() #querry records from db\n",
    "my_db = 'CREATE database Customer'\n",
    "my_cursor.execute(my_db) #execute db"
   ]
  },
  {
   "cell_type": "code",
   "execution_count": null,
   "metadata": {},
   "outputs": [],
   "source": [
    "#Check list of dbs\n",
    "my_cursor = my_connection.cursor()\n",
    "print('List of Databases is:')\n",
    "my_cursor.execute('SHOW DATABASES')\n",
    "print(my_cursor.fetchall()) #print read records"
   ]
  },
  {
   "cell_type": "code",
   "execution_count": null,
   "metadata": {},
   "outputs": [],
   "source": [
    "#Example: Show existing Dbs\n",
    "import mysql.connector\n",
    "mydb = mysql.connector.connect(host = '127.0.0.1', user = 'root', password ='Root@123', port =3306)\n",
    "mycursor =mydb.cursor()\n",
    "print('List of dbs is:')\n",
    "mycursor.execute(\"SHOW DATABASES\")\n",
    "print(mycursor.fetchall()) #print read records\n"
   ]
  },
  {
   "cell_type": "code",
   "execution_count": null,
   "metadata": {},
   "outputs": [],
   "source": [
    "#Example: Show existing tables in a db\n",
    "import mysql.connector\n",
    "mydb = mysql.connector.connect(host = '127.0.0.1', user = 'root', password ='Root@123', port =3306, database=\"MYDATABASE\")\n",
    "mycursor =mydb.cursor()\n",
    "print('List of tables is:')\n",
    "mycursor.execute(\"SHOW TABLES\")\n",
    "print(mycursor.fetchall()) #print read records\n"
   ]
  },
  {
   "cell_type": "code",
   "execution_count": null,
   "metadata": {},
   "outputs": [],
   "source": [
    "#EXAMPLE I: CREATE TABLE STUDENTS AND ADD RECORD TO IT\n",
    "\n",
    "#Step 1: Test connection to the mysql db server\n",
    "import mysql.connector\n",
    "mydb = mysql.connector.connect(host=\"localhost\", user=\"root\", password=\"Root@123\")\n",
    "mycursor =mydb.cursor()"
   ]
  },
  {
   "cell_type": "code",
   "execution_count": null,
   "metadata": {},
   "outputs": [],
   "source": [
    "#Step 2: create database mydatabase\n",
    "mycursor = my_db.cursor() \n",
    "my_sql_db = 'CREATE datatbase Mydatabase'\n",
    "mycursor.execte(my_sql_db) #execute the db"
   ]
  },
  {
   "cell_type": "code",
   "execution_count": null,
   "metadata": {},
   "outputs": [],
   "source": [
    "\n",
    "#Step 3: Check list of dbs\n",
    "print('List of Databases created is:')\n",
    "my_cursor.execute('SHOW DATABASES')\n",
    "print(my_cursor.fetchall()) #print read records"
   ]
  },
  {
   "cell_type": "code",
   "execution_count": null,
   "metadata": {},
   "outputs": [],
   "source": [
    "\n",
    "#Step 4: Connect to the db\n",
    "import mysql.connector\n",
    "mydb = mysql.connector.connect(host=\"localhost\", user=\"root\", password=\"Root@123\", database=\"MYDATABASE\")\n",
    "mycursor =mydb.cursor()\n",
    "print(f'Connection successful for db objects \\n{mydb}')"
   ]
  },
  {
   "cell_type": "code",
   "execution_count": null,
   "metadata": {},
   "outputs": [],
   "source": [
    "\n",
    "#Step 5 Check the created dbs\n",
    "print('The list of created databases is:')\n",
    "mycursor.execute('SHOW DATABASES')\n",
    "print(mycursor.fetchall()) #print fetched records"
   ]
  },
  {
   "cell_type": "code",
   "execution_count": null,
   "metadata": {},
   "outputs": [],
   "source": [
    "\n",
    "#Step 6: create table Students with columns\n",
    "mycursor.execute(\"CREATE TABLE Students(name VARCHAR(255), address VARCHAR(255), age INT)\")\n",
    "mycursor.execute(\"SHOW TABLES\") #show tables"
   ]
  },
  {
   "cell_type": "code",
   "execution_count": null,
   "metadata": {},
   "outputs": [],
   "source": [
    "#Step 7: Create rows 1 & 2 and execute them\n",
    "sql = \"INSERT INTO Students (name, address, age) VALUES ('John', 'Nairobi', 28)\"\n",
    "sql1 = \"INSERT INTO Students (name, address, age) VALUES ('Simon', 'Nyeri', 20)\"\n",
    "print(mycursor.fetchall()) ##print fetched records\n",
    "mycursor.execute(sql)\n",
    "mycursor.execute(sql1)\n",
    "\n",
    "mydb.commit() #commit\n",
    "print(mycursor.rowcount, \"record inserted.\")"
   ]
  },
  {
   "cell_type": "code",
   "execution_count": null,
   "metadata": {},
   "outputs": [],
   "source": [
    "#Step 8: Querry db\n",
    "mycursor.execute(\"SELECT * FROM Students\")\n",
    "myresult = mycursor.fetchall()\n",
    "for x in myresult:\n",
    "    print(x)"
   ]
  },
  {
   "cell_type": "code",
   "execution_count": null,
   "metadata": {},
   "outputs": [],
   "source": [
    "#EXAMPLE II: CREATE A CUSTOMERS TABLE IN CUSTOMERS DB AND INSERT DATA TO IT\n",
    "\n",
    "#Step 1: Test connection to mysql db server\n",
    "import mysql.connector\n",
    "my_db = mysql.connector.connect(host = '127.0.0.1', user = 'root', password = 'Root@123', port =3306)\n",
    "mycursor =my_db.cursor()\n",
    "print(f'Connection to db server successfull \\n{mycursor}')"
   ]
  },
  {
   "cell_type": "code",
   "execution_count": null,
   "metadata": {},
   "outputs": [],
   "source": [
    "#Step 2: Create db\n",
    "my_cursor = my_db.cursor() \n",
    "my_sql_db = \"CREATE database Customers\";  #create db\n",
    "my_cursor.execute(my_sql_db) #execute the db"
   ]
  },
  {
   "cell_type": "code",
   "execution_count": null,
   "metadata": {},
   "outputs": [],
   "source": [
    "#Step 3: Check list of dbs\n",
    "print('List of Databases created is:')\n",
    "my_cursor.execute('SHOW DATABASES')\n",
    "print(my_cursor.fetchall()) #print read records"
   ]
  },
  {
   "cell_type": "code",
   "execution_count": null,
   "metadata": {},
   "outputs": [],
   "source": [
    "#Step 4: Connect to the the db\n",
    "import mysql.connector\n",
    "my_db = mysql.connector.connect(host = '127.0.0.1', user = 'root', password = 'Root@123', port =3306, database = 'Customers')\n",
    "mycursor =my_db.cursor() #querry records from the db\n",
    "print(f'Connected to db \\n{my_db}')"
   ]
  },
  {
   "cell_type": "code",
   "execution_count": null,
   "metadata": {},
   "outputs": [],
   "source": [
    "#Step 5: create table\n",
    "# my_cursor.execute('CREATE TABLE Customers(CustomerID INT Gender VARCHAR(255) Age INT Annual Income ($) INT Spending Score (1-100) INT Profession VARCHAR(255) Work Experience INT Family Size INT')\n",
    "my_cursor.execute('CREATE TABLE Customers(Customer_ID INT, Gender VARCHAR(255), Age INT, Annual_Income77($) INT, Spending_Score(1-100) INT, Profession VARCHAR(255), Work_Experience INT, Family_Size INT')"
   ]
  },
  {
   "cell_type": "code",
   "execution_count": null,
   "metadata": {},
   "outputs": [],
   "source": [
    "#STep 6: Insert data in rows\n",
    "row1 = \"INSERT INTO Customers (CustomerID, Gender, Age,\tAnnual Income ($), Spending Score (1-100),  Profession, Work Experience, Family Size) VALUES (1, 'Male', 19, 15000, 39, 'Healthcare', 1, 4)\"\n",
    "row2 = \"INSERT INTO Customers (CustomerID, Gender, Age,\tAnnual Income ($), Spending Score (1-100),  Profession, Work Experience, Family Size) VALUES (2, 'Male', 21, 35000,\t81, 'Engineer',\t3, 3)\"\n",
    "row3 = \"INSERT INTO Customers (CustomerID, Gender, Age,\tAnnual Income ($), Spending Score (1-100),  Profession, Work Experience, Family Size) VALUES (3, 'Female', 20, 86000, 6, 'Engineer', 1,\t1)\"\n",
    "print(mycursor.fetchall()) #print fetched records\n",
    "\n",
    "# Execute the rows\n",
    "my_cursor.execute(row1)\n",
    "my_cursor.execute(row2)\n",
    "my_cursor.execute(row3)"
   ]
  },
  {
   "cell_type": "code",
   "execution_count": null,
   "metadata": {},
   "outputs": [],
   "source": [
    "#Step 7:  commit to db\n",
    "my_db.commit() \n",
    "print(f'{my_cursor.rowcount} records inserted to the db')"
   ]
  },
  {
   "cell_type": "code",
   "execution_count": null,
   "metadata": {},
   "outputs": [],
   "source": [
    "#Step 8: Querry & print results\n",
    "my_cursor.execute(\"SELECT * FROM Customers\")\n",
    "my_result = my_cursor.fetchall()\n",
    "\n",
    "for j in my_result:\n",
    "    print(j)"
   ]
  },
  {
   "cell_type": "code",
   "execution_count": null,
   "metadata": {},
   "outputs": [],
   "source": [
    "'''\n",
    "EXAMPLE III:\n",
    "1. Implement the Hospital Information System. In this exercise, Create a database with two tables, Hospital and Doctor.\n",
    "\n",
    " \n",
    "2. TABLE Hospital has the following:\n",
    "    Hospital_Id  \n",
    "    Hospital_Name\n",
    "    Bed_Count\n",
    "    PRIMARY KEY (Hospital_Id)\n",
    "\n",
    "\n",
    "3. INSERT INTO Hospital the values  \n",
    "('1', 'Mayo Clinic', 200),\n",
    "('2', 'Cleveland Clinic', 400),\n",
    "('3', 'Johns Hopkins', 1000),\n",
    "('4', 'UCLA Medical Center', 1500);\n",
    "\n",
    "3. CREATE TABLE Doctor(\n",
    "    Doctor_Id\n",
    "    Doctor_Name\n",
    "    Hospital_Id  \n",
    "    Joining_Date\n",
    "    Speciality\n",
    "    Salary\n",
    "    Experience\n",
    "    PRIMARY KEY (Doctor_Id)\n",
    "\n",
    "\n",
    "4. INSERT INTO Doctor the following values\n",
    "('101', 'David', '1', '2005-2-10', 'Pediatric', '40000', NULL),\n",
    "('102', 'Michael', '1', '2018-07-23', 'Oncologist', '20000', NULL),\n",
    "('103', 'Susan', '2', '2016-05-19', 'Garnacologist', '25000', NULL),\n",
    "('104', 'Robert', '2', '2017-12-28', 'Pediatric ', '28000', NULL),\n",
    "('105', 'Linda', '3', '2004-06-04', 'Garnacologist', '42000', NULL),\n",
    "('106', 'William', '3', '2012-09-11', 'Dermatologist', '30000', NULL),\n",
    "('107', 'Richard', '4', '2014-08-21', 'Garnacologist', '32000', NULL),\n",
    "('108', 'Karen', '4', '2011-10-17', 'Radiologist', '30000', NULL);\n",
    "'''\n",
    "#CODE\n",
    "\n",
    "#Step 1: Test connection to the db server\n",
    "import mysql.connector \n",
    "mysql_db = mysql.connector.connect(host ='127.0.0.1', user = 'root', password ='Root@123', port = 3306 )\n",
    "print(mysql_db)\n",
    "my_cursor = mysql_db.cursor() #select db"
   ]
  },
  {
   "cell_type": "code",
   "execution_count": null,
   "metadata": {},
   "outputs": [],
   "source": [
    "#Step2: create db\n",
    "my_cursor = mysql_db.cursor() \n",
    "his_db = 'CREATE database HISystem'\n",
    "my_cursor.execute(his_db)  #execute db"
   ]
  },
  {
   "cell_type": "code",
   "execution_count": null,
   "metadata": {},
   "outputs": [],
   "source": [
    "#Step 3: Connect to the created db\n",
    "import mysql.connector \n",
    "mysql_db = mysql.connector.connect(host ='127.0.0.1', user = 'root', password ='Root@123', port = 3306, database = 'HISystem' )\n",
    "print(mysql_db)\n",
    "my_cursor = mysql_db.cursor() #select db"
   ]
  },
  {
   "cell_type": "code",
   "execution_count": null,
   "metadata": {},
   "outputs": [],
   "source": [
    "#Step 4: Check if db exits\n",
    "print('The available databases are:\\n')\n",
    "my_cursor.execute('SHOW DATABASES')\n",
    "print(my_cursor.fetchall())"
   ]
  },
  {
   "cell_type": "code",
   "execution_count": null,
   "metadata": {},
   "outputs": [],
   "source": [
    "#Step 5: create Hospital table\n",
    "my_cursor.execute('CREATE TABLE Hospital ( Hospital_Id VARCHAR(255), Hospital_Name VARCHAR(255), Bed_Count INT)')\n",
    "mycursor.execute(\"ALTER TABLE Hospital ADD PRIMARY KEY(Hospital_ID)\") #make Hospital ID pk\n",
    "my_cursor.execute(\"SHOW TABLES\") #show tables\n",
    "# print(my_cursor.fetchall())"
   ]
  },
  {
   "cell_type": "code",
   "execution_count": null,
   "metadata": {},
   "outputs": [],
   "source": [
    "#Step 6: Insert  Rows\n",
    "row1=\"INSERT INTO Hospital(Hospital_Id, Hospital_Name, Bed_Count) VALUES ('1', 'Mayo Clinic', 200)\" \n",
    "row2=\"INSERT INTO Hospital(Hospital_Id, Hospital_Name, Bed_Count) VALUES ('2', 'Cleveland Clinic', 400)\" \n",
    "row3=\"INSERT INTO Hospital(Hospital_Id, Hospital_Name, Bed_Count) VALUES ('3', 'Johns Hopkins', 1000)\" \n",
    "row4=\"INSERT INTO Hospital(Hospital_Id, Hospital_Name, Bed_Count) VALUES ('4', 'UCLA Medical Center', 1500)\" \n",
    "print(mycursor.fetchall())\n",
    "\n",
    "#Execute the rows\n",
    "my_cursor.execute(row1)\n",
    "my_cursor.execute(row2)\n",
    "my_cursor.execute(row3)\n",
    "my_cursor.execute(row4)\n",
    "\n",
    "#commit changes to the db\n",
    "mysql_db.commit()\n",
    "print(my_cursor.rowcount, 'record inserted into db')"
   ]
  },
  {
   "cell_type": "code",
   "execution_count": null,
   "metadata": {},
   "outputs": [],
   "source": [
    "#Step 7: querry Hospital Table\n",
    "my_cursor.execute('SELECT * FROM Hospital')\n",
    "hosp_results = my_cursor.fetchall()\n",
    "print('\\nBelow are the records in the Hospital\\'s table:\\n')\n",
    "for i in hosp_results:\n",
    "    print(i)"
   ]
  },
  {
   "cell_type": "code",
   "execution_count": null,
   "metadata": {},
   "outputs": [],
   "source": [
    "#Create Doctor table\n",
    "my_cursor.execute('CREATE TABLE Doctor(Doctor_Id INT, Doctor_Name VARCHAR(255), \\\n",
    "                Hospital_Id INT, Joining_Date DATE, Speciality VARCHAR(255), Salary INT, Experience INT NULL)')\n",
    "# my_cursor.execute('ALTER TABLE Doctor CHANGE Experience Experience INT NULL')\n",
    "my_cursor.execute('ALTER TABLE Doctor ADD PRIMARY KEY(Doctor_Id)')\n",
    "my_cursor.execute(\"SHOW TABLES\")\n",
    "\n",
    "#Insert row into Doctor Table\n",
    "row_1=\"INSERT INTO Doctor(Doctor_Id, Doctor_Name, Hospital_Id, Joining_Date, Speciality, Salary, Experience)\\\n",
    "      VALUES ('101', 'David', '1', '2005-2-10', 'Pediatric', '40000', NULL)\"\n",
    "row_2=\"INSERT INTO Doctor(Doctor_Id, Doctor_Name, Hospital_Id, Joining_Date, Speciality, Salary, Experience)\\\n",
    "      VALUES ('102', 'Michael', '1', '2018-07-23', 'Oncologist', '20000', NULL)\"\n",
    "row_3=\"INSERT INTO Doctor(Doctor_Id, Doctor_Name, Hospital_Id, Joining_Date, Speciality, Salary, Experience)\\\n",
    "      VALUES ('103', 'Susan', '2', '2016-05-19', 'Garnacologist', '25000', NULL)\"\n",
    "row_4=\"INSERT INTO Doctor(Doctor_Id, Doctor_Name, Hospital_Id, Joining_Date, Speciality, Salary, Experience)\\\n",
    "      VALUES ('104', 'Robert', '2', '2017-12-28', 'Pediatric ', '28000', NULL)\"\n",
    "row_5=\"INSERT INTO Doctor(Doctor_Id, Doctor_Name, Hospital_Id, Joining_Date, Speciality, Salary, Experience)\\\n",
    "      VALUES ('105', 'Linda', '3', '2004-06-04', 'Garnacologist', '42000', NULL)\"\n",
    "row_6=\"INSERT INTO Doctor(Doctor_Id, Doctor_Name, Hospital_Id, Joining_Date, Speciality, Salary, Experience)\\\n",
    "      VALUES ('106', 'William', '3', '2012-09-11', 'Dermatologist', '30000', NULL)\"\n",
    "row_7=\"INSERT INTO Doctor(Doctor_Id, Doctor_Name, Hospital_Id, Joining_Date, Speciality, Salary, Experience)\\\n",
    "      VALUES ('107', 'Richard', '4', '2014-08-21', 'Garnacologist', '32000', NULL)\"\n",
    "row_8=\"INSERT INTO Doctor(Doctor_Id, Doctor_Name, Hospital_Id, Joining_Date, Speciality, Salary, Experience)\\\n",
    "      VALUES ('108', 'Karen', '4', '2011-10-17', 'Radiologist', '30000', NULL)\"\n",
    "print(my_cursor.fetchall())\n",
    "\n",
    "#Execute the rows\n",
    "my_cursor.execute(row_1)\n",
    "my_cursor.execute(row_2)\n",
    "my_cursor.execute(row_3)\n",
    "my_cursor.execute(row_4)\n",
    "my_cursor.execute(row_5)\n",
    "my_cursor.execute(row_6)\n",
    "my_cursor.execute(row_7)\n",
    "my_cursor.execute(row_8)\n",
    "\n",
    "\n",
    "#commit changes to the db\n",
    "mysql_db.commit()\n",
    "print(my_cursor.rowcount, 'record inserted into db')"
   ]
  },
  {
   "cell_type": "code",
   "execution_count": null,
   "metadata": {},
   "outputs": [],
   "source": [
    "#querry Hospital db\n",
    "my_cursor.execute('SELECT * FROM Doctor')\n",
    "doc_results = my_cursor.fetchall()\n",
    "print('\\nBelow are the records in the Doctor\\'s table:\\n')\n",
    "for j in doc_results:\n",
    "    print(j)\n"
   ]
  },
  {
   "cell_type": "code",
   "execution_count": null,
   "metadata": {},
   "outputs": [],
   "source": [
    "''''\n",
    "*************************************\n",
    "EXAMPLE3: PPOPULATION MANAGEMENT SYSTEM\n",
    "******************************************\n",
    "You are required to implement a Population Management System in Python IDE.\n",
    "1. Create a database called POPULATION.\n",
    "2. Create two tables, Location and People on your database.\n",
    "The Tables should take the format below:\n",
    "Location Table Fields:\n",
    "* Location_ID, Location_Name, Population\n",
    "* Note: Location_ID is the Primary Key\n",
    "People Table Fields:\n",
    "* Person_ID, Person_Name, Location_ID, Birth_Date, Profession, Income, Marital status\n",
    "(NULL)\n",
    "* Note: Person_ID is the Primary Key while Location_ID is the Foreign Key\n",
    "3. Create a SQL data model that you will be using for this exercise.\n",
    "4. Write a code to insert data into the tables. The Tables should contain at least 20 entries of\n",
    "data. The value for Marital status should remain NULL\n",
    "5. Display all data in Location and People using the Primary keys.\n",
    "6. Fetch all people whose income is higher than the specified amount and profession is the\n",
    "same as the specified.\n",
    "7. Implement a functionality to fetch all the persons from a specified location.\n",
    "8. Update person's marital status from NULL and replace with appropriate values. \n",
    "'''\n",
    "\n",
    "#Connect to mysql server\n",
    "import mysql.connector\n",
    "my_db = mysql.connector.connect(\n",
    "host=\"localhost\",\n",
    "user=\"root\",\n",
    "password=\"Root@123\"\n",
    ")\n",
    "print('Congratulations! You have connected to mysql server successfully!')"
   ]
  },
  {
   "cell_type": "code",
   "execution_count": null,
   "metadata": {},
   "outputs": [],
   "source": [
    "#Drop db if it exists\n",
    "my_cursor = my_db.cursor()\n",
    "my_cursor.execute('DROP DATABASE POPULATION')\n",
    "print('Population Database dropped')"
   ]
  },
  {
   "cell_type": "code",
   "execution_count": null,
   "metadata": {},
   "outputs": [],
   "source": [
    "#Creating a Database named POPULATION\n",
    "my_cursor = my_db.cursor() #creating a cursor object\n",
    "PMS_db=\"CREATE DATABASE POPULATION\"\n",
    "my_cursor.execute(PMS_db)\n",
    "print(f'Hewalla! Population Database Created successfully')"
   ]
  },
  {
   "cell_type": "code",
   "execution_count": null,
   "metadata": {},
   "outputs": [],
   "source": [
    "#Check if db exists\n",
    "my_cursor = my_db.cursor()\n",
    "print('The existing databases are:')\n",
    "my_cursor.execute('SHOW DATABASES')\n",
    "print(my_cursor.fetchall())"
   ]
  },
  {
   "cell_type": "code",
   "execution_count": null,
   "metadata": {},
   "outputs": [],
   "source": [
    "#creating connection to population database\n",
    "my_db = mysql.connector.connect(\n",
    "host='localhost',\n",
    "user='root',\n",
    "password='Root@123',\n",
    "database='POPULATION'\n",
    ")\n",
    "print('Well Done! You have Successfully connected to Population db')"
   ]
  },
  {
   "cell_type": "code",
   "execution_count": null,
   "metadata": {},
   "outputs": [],
   "source": [
    "#Drop tables People and Location Tables if they exist\n",
    "my_cursor.execute('DROP TABLE People')\n",
    "print('People Table successfully dropped')\n",
    "my_cursor.execute('DROP TABLE Location')\n",
    "print('Location table successfully dropped')"
   ]
  },
  {
   "cell_type": "code",
   "execution_count": null,
   "metadata": {},
   "outputs": [],
   "source": [
    "my_cursor = my_db.cursor()\n",
    "# Creating a Location table\n",
    "my_cursor.execute(\"CREATE TABLE Location (Location_ID INT PRIMARY KEY,Location_Name VARCHAR(255), Population INT)\")\n",
    "print('Welldone! Location table created successfully')\n",
    "# Creating a People table\n",
    "my_cursor.execute(\"CREATE TABLE People (Person_ID INT PRIMARY KEY, Person_Name VARCHAR(255), Location_ID INT, Birth_Date DATE, Profession VARCHAR(255), Income FLOAT, Marital_Status VARCHAR(255) NULL, FOREIGN KEY(Location_ID) REFERENCES Location(Location_ID))\")\n",
    "print('Well done! People table created successully\\n')\n"
   ]
  },
  {
   "cell_type": "code",
   "execution_count": null,
   "metadata": {},
   "outputs": [],
   "source": [
    "#show created tables\n",
    "print('The list of tables created in Population db are:')\n",
    "my_cursor.execute('SHOW TABLES')\n",
    "print(my_cursor.fetchall())"
   ]
  },
  {
   "cell_type": "code",
   "execution_count": null,
   "metadata": {},
   "outputs": [],
   "source": [
    "#Insert Data into Location Table\n",
    "cols =\"INSERT INTO Location(Location_ID, Location_Name, Population) VALUES(%s, %s, %s)\"\n",
    "vals = [\n",
    "(72254102, \"Nairobi\", 2005000),\n",
    "(72254213, \"Mombasa\", 2770000),\n",
    "(72254314, \"Kisumu\", 462020),\n",
    "(72254415, \"kisumu\", 3423095),\n",
    "(72254516, \"Narok\", 104568),\n",
    "(72254617, \"Kiambu\", 3459870),\n",
    "(72254718, \"Makweni\", 900564),\n",
    "(72254819, \"Mandera\", 51278),\n",
    "(72254901, \"Turkana\", 42068),\n",
    "(72254101, \"kisumu\", 870456),\n",
    "(72254012, \"kisii\", 1056724),\n",
    "(72254123, \"Kisumu\", 960575),\n",
    "(72254134, \"Kericho\", 1506782),\n",
    "(72254145, \"Eldoret\", 1405678),\n",
    "(72254156, \"Jericho\", 700681),\n",
    "(72254167, \"Kisumu\", 315689),\n",
    "(72254178, \"Machakos\", 215645),\n",
    "(72254189, \"Marsabit\", 35782),\n",
    "(72254199, \"Meru\", 650689),\n",
    "(72254201, \"Kirinyaga\",689675)\n",
    "]\n",
    "#execute and save to database\n",
    "my_cursor.executemany(cols, vals)\n",
    "my_db .commit()\n",
    "print(my_cursor.rowcount, \"records have been inserted successfully into Location table.\")"
   ]
  },
  {
   "cell_type": "code",
   "execution_count": null,
   "metadata": {},
   "outputs": [],
   "source": [
    "\n",
    "# Insert data into People table\n",
    "cols = \"INSERT INTO People (Person_ID, Person_Name, Location_ID, Birth_Date, Profession, Income, Marital_Status) VALUES (%s, %s, %s,%s, %s, %s, %s)\"\n",
    "vals = [\n",
    "(3236001, 'Joseph Bin', 72254102, '1920-02-10', 'Journalist', 70365, None),\n",
    "(3236002, 'Johnson Watts', 72254213, '1964-10-06', 'Engineer', 321569, None),\n",
    "(3236003, 'Isaaac Netone', 72254314, '1971-11-16', 'Scientiest', 120334, None),\n",
    "(3236004, 'Daniel Bright', 72254415, '1947-02-22', 'Engineer',516532, None),\n",
    "(3236005, 'Doctari Kimotho', 72254516, '1923-02-21', 'Doctor', 125436, None),\n",
    "(3236006, 'Joseph Tesla', 72254617, '1989-09-12', 'Engineer', 425321, None),\n",
    "(3236007, 'Philips Antonion', 72254718, '1857-6-13', 'Businessman', 213564, None),\n",
    "(3236008, 'Ishabel Muchoki', 72254819, '1899-01-25', 'Cook', 70215, None),\n",
    "(3236009, 'Kanini Kioni', 72254901, '1965-06-15', 'Politician', 125758, None),\n",
    "(3236000, 'Joshua Otieno', 72254101, '1999-09-20', 'Engineer', 356987, None),\n",
    "(3236101, 'Caleb Joan', 72254012, '1985-05-23', 'Lawyer', 120563, None),\n",
    "(3236012, 'Fiona Kamaki', 72254134, '1992-12-25', 'Teacher', 95300, None) ,\n",
    "(3236013, 'Jactone Venezuella', 72254123, '1886-11-23', 'Data Analyst', 53600, None),\n",
    "(3236014, 'Mary Mzungu', 72254145, '1981-04-20', 'Recptionist', 37800, None),\n",
    "(3236015, 'Fridah Abubakar', 72254156, '1999-11-16', 'Accountant', 34500, None),\n",
    "(3236016, 'Mary Njoki', 72254167, '1993-12-28', 'Lecturer', 81235, None),\n",
    "(3236017, 'Wajakoya Wambasa', 72254178, '2001-11-12', 'policeman', 78030, None),\n",
    "(3236018, 'Wambui Wakoli', 72254189, '1896-11-19', 'Pastor', 32156, None),\n",
    "(3236019, 'Emilly Cheboi', 72254199, '1865-10-16', 'Programmer', 125600, None),\n",
    "(3236010, 'josephat kilimo', 72254201, '1896-07-26', 'Farmer', 352061, None)\n",
    "]\n",
    "\n",
    "#Execute and commit to db\n",
    "my_cursor.executemany(cols, vals)\n",
    "my_db.commit()\n",
    "print(my_cursor.rowcount, \"records have been inserted successfully into People table.\")\n"
   ]
  },
  {
   "cell_type": "code",
   "execution_count": null,
   "metadata": {},
   "outputs": [],
   "source": [
    "# fetch all data in Location table using primary key\n",
    "my_cursor.execute('SELECT * FROM Location ORDER BY Location_ID')\n",
    "my_results = my_cursor.fetchall()\n",
    "print('Location table has the following data entries')\n",
    "print('---------------------------------------------')\n",
    "for j in my_results:\n",
    "    print(j)\n",
    "print(f'\\n{my_cursor.rowcount} rows returned')"
   ]
  },
  {
   "cell_type": "code",
   "execution_count": null,
   "metadata": {},
   "outputs": [],
   "source": [
    "# Display all data in People table using pk\n",
    "my_cursor.execute('SELECT * FROM People ORDER BY Person_ID')\n",
    "my_results = my_cursor.fetchall()\n",
    "print('People table has the following data entries:')\n",
    "print('------------------------------------------------------------------------------------------')\n",
    "for j in my_results:\n",
    "    print(j)\n",
    "print(f'\\n{my_cursor.rowcount} rows returned')"
   ]
  },
  {
   "cell_type": "code",
   "execution_count": null,
   "metadata": {},
   "outputs": [],
   "source": [
    "# Fetch all people whose income is higher than 100000 and profession is Engineer\n",
    "my_cursor.execute(\"SELECT * FROM People WHERE Income>100000 AND Profession='Engineer' ORDER BY Person_ID\")\n",
    "my_results = my_cursor.fetchall()\n",
    "print('The following are Engineer earning more than 100000:\\n')\n",
    "for j in my_results:\n",
    "    print(j)\n",
    "print(f'\\n{my_cursor.rowcount} Engineer(s) returned')"
   ]
  },
  {
   "cell_type": "code",
   "execution_count": null,
   "metadata": {},
   "outputs": [],
   "source": [
    "# fetch all the persons from a specified location\n",
    "my_cursor.execute(\"SELECT People.Person_ID, People.Person_Name, People.Location_ID, Location.Location_Name FROM Location INNER JOIN People ON Location.Location_ID=People.Location_ID WHERE Location.Location_Name ='Kisumu'\")\n",
    "my_results = my_cursor.fetchall()\n",
    "print('The following person(s) come from Kisumu:')\n",
    "for j in my_results:\n",
    "    print(j)\n",
    "print(f'\\n{my_cursor.rowcount} person(s) come from kisumu')"
   ]
  },
  {
   "cell_type": "code",
   "execution_count": null,
   "metadata": {},
   "outputs": [],
   "source": [
    "#Update a person’s marital status from NULL to appropriate value\n",
    "my_cursor.execute(\"UPDATE People SET Marital_Status='Engaged' WHERE Person_Name = 'Ann Mpole'\")\n",
    "#fetch all records after updates\n",
    "my_cursor.execute(\"SELECT * FROM People WHERE Person_Name = 'Jactone Venezuella'\")\n",
    "results = my_cursor.fetchall()\n",
    "print('The marital status of the following has been updated to engaged:\\n')\n",
    "for j in results:\n",
    "    print(j)\n",
    "print(f'\\n{my_cursor.rowcount}, record(s) were updated')"
   ]
  }
 ],
 "metadata": {
  "kernelspec": {
   "display_name": "Python 3",
   "language": "python",
   "name": "python3"
  },
  "language_info": {
   "codemirror_mode": {
    "name": "ipython",
    "version": 3
   },
   "file_extension": ".py",
   "mimetype": "text/x-python",
   "name": "python",
   "nbconvert_exporter": "python",
   "pygments_lexer": "ipython3",
   "version": "3.10.8"
  },
  "orig_nbformat": 4
 },
 "nbformat": 4,
 "nbformat_minor": 2
}
